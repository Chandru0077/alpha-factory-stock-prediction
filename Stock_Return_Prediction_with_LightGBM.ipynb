{
  "nbformat": 4,
  "nbformat_minor": 0,
  "metadata": {
    "colab": {
      "provenance": []
    },
    "kernelspec": {
      "name": "python3",
      "display_name": "Python 3"
    },
    "language_info": {
      "name": "python"
    }
  },
  "cells": [
    {
      "cell_type": "code",
      "source": [
        "# Create folder structure\n",
        "import os\n",
        "\n",
        "folders = [\n",
        "    \"data/prices\",\n",
        "    \"data/fundamentals\",\n",
        "    \"features\",\n",
        "    \"models\",\n",
        "    \"scripts\"\n",
        "]\n",
        "\n",
        "for folder in folders:\n",
        "    os.makedirs(folder, exist_ok=True)\n",
        "\n",
        "# Install required libraries\n",
        "!pip install yfinance lightgbm pandas scikit-learn\n"
      ],
      "metadata": {
        "colab": {
          "base_uri": "https://localhost:8080/"
        },
        "id": "C3zOAIjNCUrZ",
        "outputId": "4e8ab8c7-927d-4cec-add8-48d7ceb8b9e0"
      },
      "execution_count": 6,
      "outputs": [
        {
          "output_type": "stream",
          "name": "stdout",
          "text": [
            "Requirement already satisfied: yfinance in /usr/local/lib/python3.11/dist-packages (0.2.61)\n",
            "Requirement already satisfied: lightgbm in /usr/local/lib/python3.11/dist-packages (4.5.0)\n",
            "Requirement already satisfied: pandas in /usr/local/lib/python3.11/dist-packages (2.2.2)\n",
            "Requirement already satisfied: scikit-learn in /usr/local/lib/python3.11/dist-packages (1.6.1)\n",
            "Requirement already satisfied: numpy>=1.16.5 in /usr/local/lib/python3.11/dist-packages (from yfinance) (2.0.2)\n",
            "Requirement already satisfied: requests>=2.31 in /usr/local/lib/python3.11/dist-packages (from yfinance) (2.32.3)\n",
            "Requirement already satisfied: multitasking>=0.0.7 in /usr/local/lib/python3.11/dist-packages (from yfinance) (0.0.11)\n",
            "Requirement already satisfied: platformdirs>=2.0.0 in /usr/local/lib/python3.11/dist-packages (from yfinance) (4.3.8)\n",
            "Requirement already satisfied: pytz>=2022.5 in /usr/local/lib/python3.11/dist-packages (from yfinance) (2025.2)\n",
            "Requirement already satisfied: frozendict>=2.3.4 in /usr/local/lib/python3.11/dist-packages (from yfinance) (2.4.6)\n",
            "Requirement already satisfied: peewee>=3.16.2 in /usr/local/lib/python3.11/dist-packages (from yfinance) (3.18.1)\n",
            "Requirement already satisfied: beautifulsoup4>=4.11.1 in /usr/local/lib/python3.11/dist-packages (from yfinance) (4.13.4)\n",
            "Requirement already satisfied: curl_cffi>=0.7 in /usr/local/lib/python3.11/dist-packages (from yfinance) (0.11.1)\n",
            "Requirement already satisfied: protobuf>=3.19.0 in /usr/local/lib/python3.11/dist-packages (from yfinance) (5.29.4)\n",
            "Requirement already satisfied: websockets>=13.0 in /usr/local/lib/python3.11/dist-packages (from yfinance) (15.0.1)\n",
            "Requirement already satisfied: scipy in /usr/local/lib/python3.11/dist-packages (from lightgbm) (1.15.3)\n",
            "Requirement already satisfied: python-dateutil>=2.8.2 in /usr/local/lib/python3.11/dist-packages (from pandas) (2.9.0.post0)\n",
            "Requirement already satisfied: tzdata>=2022.7 in /usr/local/lib/python3.11/dist-packages (from pandas) (2025.2)\n",
            "Requirement already satisfied: joblib>=1.2.0 in /usr/local/lib/python3.11/dist-packages (from scikit-learn) (1.5.0)\n",
            "Requirement already satisfied: threadpoolctl>=3.1.0 in /usr/local/lib/python3.11/dist-packages (from scikit-learn) (3.6.0)\n",
            "Requirement already satisfied: soupsieve>1.2 in /usr/local/lib/python3.11/dist-packages (from beautifulsoup4>=4.11.1->yfinance) (2.7)\n",
            "Requirement already satisfied: typing-extensions>=4.0.0 in /usr/local/lib/python3.11/dist-packages (from beautifulsoup4>=4.11.1->yfinance) (4.13.2)\n",
            "Requirement already satisfied: cffi>=1.12.0 in /usr/local/lib/python3.11/dist-packages (from curl_cffi>=0.7->yfinance) (1.17.1)\n",
            "Requirement already satisfied: certifi>=2024.2.2 in /usr/local/lib/python3.11/dist-packages (from curl_cffi>=0.7->yfinance) (2025.4.26)\n",
            "Requirement already satisfied: six>=1.5 in /usr/local/lib/python3.11/dist-packages (from python-dateutil>=2.8.2->pandas) (1.17.0)\n",
            "Requirement already satisfied: charset-normalizer<4,>=2 in /usr/local/lib/python3.11/dist-packages (from requests>=2.31->yfinance) (3.4.2)\n",
            "Requirement already satisfied: idna<4,>=2.5 in /usr/local/lib/python3.11/dist-packages (from requests>=2.31->yfinance) (3.10)\n",
            "Requirement already satisfied: urllib3<3,>=1.21.1 in /usr/local/lib/python3.11/dist-packages (from requests>=2.31->yfinance) (2.4.0)\n",
            "Requirement already satisfied: pycparser in /usr/local/lib/python3.11/dist-packages (from cffi>=1.12.0->curl_cffi>=0.7->yfinance) (2.22)\n"
          ]
        }
      ]
    },
    {
      "cell_type": "code",
      "source": [
        "import yfinance as yf\n",
        "import pandas as pd\n",
        "\n",
        "# List of tickers to download (example: Apple, Microsoft, Google)\n",
        "tickers = [\"AAPL\", \"MSFT\", \"GOOGL\"]\n",
        "\n",
        "def download_price_data(tickers, folder=\"data/prices\"):\n",
        "    for ticker in tickers:\n",
        "        print(f\"Downloading {ticker} data...\")\n",
        "        data = yf.download(ticker, start=\"2018-01-01\", end=\"2024-01-01\")\n",
        "        data.to_csv(f\"{folder}/{ticker}.csv\")\n",
        "    print(\"Download complete.\")\n",
        "\n",
        "download_price_data(tickers)\n"
      ],
      "metadata": {
        "colab": {
          "base_uri": "https://localhost:8080/"
        },
        "id": "oClbMjJXCUuI",
        "outputId": "3424196a-5636-4259-ab2b-dee5513f90e2"
      },
      "execution_count": 7,
      "outputs": [
        {
          "output_type": "stream",
          "name": "stdout",
          "text": [
            "Downloading AAPL data...\n",
            "YF.download() has changed argument auto_adjust default to True\n"
          ]
        },
        {
          "output_type": "stream",
          "name": "stderr",
          "text": [
            "\r[*********************100%***********************]  1 of 1 completed\n"
          ]
        },
        {
          "output_type": "stream",
          "name": "stdout",
          "text": [
            "Downloading MSFT data...\n"
          ]
        },
        {
          "output_type": "stream",
          "name": "stderr",
          "text": [
            "\r[*********************100%***********************]  1 of 1 completed\n"
          ]
        },
        {
          "output_type": "stream",
          "name": "stdout",
          "text": [
            "Downloading GOOGL data...\n"
          ]
        },
        {
          "output_type": "stream",
          "name": "stderr",
          "text": [
            "\r[*********************100%***********************]  1 of 1 completed"
          ]
        },
        {
          "output_type": "stream",
          "name": "stdout",
          "text": [
            "Download complete.\n"
          ]
        },
        {
          "output_type": "stream",
          "name": "stderr",
          "text": [
            "\n"
          ]
        }
      ]
    },
    {
      "cell_type": "code",
      "source": [
        "import pandas as pd\n",
        "import glob\n",
        "\n",
        "for file in glob.glob(\"data/prices/*.csv\"):\n",
        "    df = pd.read_csv(file)\n",
        "    print(f\"Columns in {file}: {df.columns.tolist()}\")\n"
      ],
      "metadata": {
        "colab": {
          "base_uri": "https://localhost:8080/"
        },
        "id": "1E05oLSZCUw2",
        "outputId": "9ddb66bc-c2e2-4f62-eb09-8117f52d936c"
      },
      "execution_count": 9,
      "outputs": [
        {
          "output_type": "stream",
          "name": "stdout",
          "text": [
            "Columns in data/prices/MSFT.csv: ['Price', 'Close', 'High', 'Low', 'Open', 'Volume']\n",
            "Columns in data/prices/GOOGL.csv: ['Price', 'Close', 'High', 'Low', 'Open', 'Volume']\n",
            "Columns in data/prices/AAPL.csv: ['Price', 'Close', 'High', 'Low', 'Open', 'Volume']\n"
          ]
        }
      ]
    },
    {
      "cell_type": "code",
      "source": [
        "import pandas as pd\n",
        "import glob\n",
        "\n",
        "for file in glob.glob(\"data/prices/*.csv\"):\n",
        "    df = pd.read_csv(file)\n",
        "    print(f\"Columns in {file}: {df.columns.tolist()}\")\n"
      ],
      "metadata": {
        "colab": {
          "base_uri": "https://localhost:8080/"
        },
        "id": "l4sntxvUCUzn",
        "outputId": "7256db3a-9ffb-445e-beca-060fbb12cc7f"
      },
      "execution_count": 11,
      "outputs": [
        {
          "output_type": "stream",
          "name": "stdout",
          "text": [
            "Columns in data/prices/MSFT.csv: ['Price', 'Close', 'High', 'Low', 'Open', 'Volume']\n",
            "Columns in data/prices/GOOGL.csv: ['Price', 'Close', 'High', 'Low', 'Open', 'Volume']\n",
            "Columns in data/prices/AAPL.csv: ['Price', 'Close', 'High', 'Low', 'Open', 'Volume']\n"
          ]
        }
      ]
    },
    {
      "cell_type": "code",
      "source": [
        "df[price_col] = pd.to_numeric(df[price_col], errors='coerce')\n"
      ],
      "metadata": {
        "id": "O91kdqdVCU2Z"
      },
      "execution_count": 13,
      "outputs": []
    },
    {
      "cell_type": "code",
      "source": [
        "df['return'] = df[price_col].pct_change(fill_method=None)\n"
      ],
      "metadata": {
        "id": "scUigqT-CU5F"
      },
      "execution_count": 14,
      "outputs": []
    },
    {
      "cell_type": "code",
      "source": [
        "import pandas as pd\n",
        "import glob\n",
        "\n",
        "def engineer_features(input_folder=\"data/prices\", output_file=\"features/engineered_features.csv\"):\n",
        "    all_features = []\n",
        "\n",
        "    def get_price_column(df):\n",
        "        for col in ['Adj Close', 'Adj Close*', 'Close']:\n",
        "            if col in df.columns:\n",
        "                return col\n",
        "        raise ValueError(\"No suitable price column found\")\n",
        "\n",
        "    for file in glob.glob(f\"{input_folder}/*.csv\"):\n",
        "        df = pd.read_csv(file, index_col=0, parse_dates=True)\n",
        "        ticker = file.split(\"/\")[-1].replace(\".csv\", \"\")\n",
        "        price_col = get_price_column(df)\n",
        "\n",
        "        # Convert price column to numeric\n",
        "        df[price_col] = pd.to_numeric(df[price_col], errors='coerce')\n",
        "\n",
        "        df['return'] = df[price_col].pct_change(fill_method=None)\n",
        "        df['ma5'] = df[price_col].rolling(window=5).mean()\n",
        "        df['ma10'] = df[price_col].rolling(window=10).mean()\n",
        "        df['target'] = df['return'].shift(-1)  # next day return as target\n",
        "        df['ticker'] = ticker\n",
        "\n",
        "        df.dropna(inplace=True)\n",
        "        all_features.append(df)\n",
        "\n",
        "    result = pd.concat(all_features)\n",
        "    result.to_csv(output_file)\n",
        "    print(f\"Features saved to {output_file}\")\n",
        "\n",
        "engineer_features()\n"
      ],
      "metadata": {
        "colab": {
          "base_uri": "https://localhost:8080/"
        },
        "id": "W3Q-LUwUCU73",
        "outputId": "8cfcdc51-3360-4f00-f634-fc701e9a4d86"
      },
      "execution_count": 15,
      "outputs": [
        {
          "output_type": "stream",
          "name": "stdout",
          "text": [
            "Features saved to features/engineered_features.csv\n"
          ]
        },
        {
          "output_type": "stream",
          "name": "stderr",
          "text": [
            "<ipython-input-15-5b88ebefee91>:14: UserWarning: Could not infer format, so each element will be parsed individually, falling back to `dateutil`. To ensure parsing is consistent and as-expected, please specify a format.\n",
            "  df = pd.read_csv(file, index_col=0, parse_dates=True)\n",
            "<ipython-input-15-5b88ebefee91>:14: UserWarning: Could not infer format, so each element will be parsed individually, falling back to `dateutil`. To ensure parsing is consistent and as-expected, please specify a format.\n",
            "  df = pd.read_csv(file, index_col=0, parse_dates=True)\n",
            "<ipython-input-15-5b88ebefee91>:14: UserWarning: Could not infer format, so each element will be parsed individually, falling back to `dateutil`. To ensure parsing is consistent and as-expected, please specify a format.\n",
            "  df = pd.read_csv(file, index_col=0, parse_dates=True)\n"
          ]
        }
      ]
    },
    {
      "cell_type": "code",
      "source": [
        "import pandas as pd\n",
        "\n",
        "# Load the engineered features CSV\n",
        "df_features = pd.read_csv(\"features/engineered_features.csv\", index_col=0)\n",
        "\n",
        "print(df_features.head())\n"
      ],
      "metadata": {
        "colab": {
          "base_uri": "https://localhost:8080/"
        },
        "id": "huvb6dp2CU-0",
        "outputId": "7270eebd-b7de-492c-ce14-6b638ddafd48"
      },
      "execution_count": 16,
      "outputs": [
        {
          "output_type": "stream",
          "name": "stdout",
          "text": [
            "                Close       High        Low       Open    Volume    return  \\\n",
            "Price                                                                        \n",
            "2018-01-16  81.543648  83.795676  81.229844  83.158830  36599700 -0.013951   \n",
            "2018-01-17  83.195732  83.324946  81.912816  82.217395  25621200  0.020260   \n",
            "2018-01-18  83.158813  83.684901  82.752715  82.881929  24159700 -0.000444   \n",
            "2018-01-19  83.066528  83.629535  82.752725  83.195742  36875000 -0.001110   \n",
            "2018-01-22  84.552498  84.561729  82.826557  83.066529  23601600  0.017889   \n",
            "\n",
            "                  ma5       ma10    target ticker  \n",
            "Price                                              \n",
            "2018-01-16  81.602711  81.031396  0.020260   MSFT  \n",
            "2018-01-17  81.957129  81.418118 -0.000444   MSFT  \n",
            "2018-01-18  82.377997  81.764227 -0.001110   MSFT  \n",
            "2018-01-19  82.732416  82.030964  0.017889   MSFT  \n",
            "2018-01-22  83.103444  82.346616  0.003165   MSFT  \n"
          ]
        }
      ]
    },
    {
      "cell_type": "code",
      "source": [
        "from sklearn.model_selection import train_test_split\n",
        "\n",
        "# Select feature columns and target column\n",
        "feature_cols = ['return', 'ma5', 'ma10']\n",
        "target_col = 'target'\n",
        "\n",
        "X = df_features[feature_cols]\n",
        "y = df_features[target_col]\n",
        "\n",
        "# Split into train and test sets (e.g., 80% train, 20% test)\n",
        "X_train, X_test, y_train, y_test = train_test_split(X, y, test_size=0.2, shuffle=False)\n",
        "\n",
        "print(f\"Training samples: {len(X_train)}, Testing samples: {len(X_test)}\")\n"
      ],
      "metadata": {
        "colab": {
          "base_uri": "https://localhost:8080/"
        },
        "id": "oPIeHSgACVBX",
        "outputId": "8df3de80-322f-42f5-9754-33e034c96897"
      },
      "execution_count": 17,
      "outputs": [
        {
          "output_type": "stream",
          "name": "stdout",
          "text": [
            "Training samples: 3597, Testing samples: 900\n"
          ]
        }
      ]
    },
    {
      "cell_type": "code",
      "source": [
        "import joblib\n",
        "joblib.dump(model, 'models/lgbm_model.pkl')\n"
      ],
      "metadata": {
        "colab": {
          "base_uri": "https://localhost:8080/"
        },
        "id": "9E-o2mBPHYX6",
        "outputId": "df52c3b9-7ce7-4402-ca0d-a2a957e57dde"
      },
      "execution_count": 37,
      "outputs": [
        {
          "output_type": "execute_result",
          "data": {
            "text/plain": [
              "['models/lgbm_model.pkl']"
            ]
          },
          "metadata": {},
          "execution_count": 37
        }
      ]
    },
    {
      "cell_type": "code",
      "source": [
        "!pip install lightgbm\n"
      ],
      "metadata": {
        "colab": {
          "base_uri": "https://localhost:8080/"
        },
        "id": "VDi6fG_OCVEO",
        "outputId": "81dcc53f-2fa6-433a-a280-90291e028e95"
      },
      "execution_count": 18,
      "outputs": [
        {
          "output_type": "stream",
          "name": "stdout",
          "text": [
            "Requirement already satisfied: lightgbm in /usr/local/lib/python3.11/dist-packages (4.5.0)\n",
            "Requirement already satisfied: numpy>=1.17.0 in /usr/local/lib/python3.11/dist-packages (from lightgbm) (2.0.2)\n",
            "Requirement already satisfied: scipy in /usr/local/lib/python3.11/dist-packages (from lightgbm) (1.15.3)\n"
          ]
        }
      ]
    },
    {
      "cell_type": "code",
      "source": [
        "import lightgbm as lgb\n",
        "\n",
        "# Create datasets for LightGBM\n",
        "train_data = lgb.Dataset(X_train, label=y_train)\n",
        "valid_data = lgb.Dataset(X_test, label=y_test)\n",
        "\n",
        "# Parameters for regression\n",
        "params = {\n",
        "    'objective': 'regression',\n",
        "    'metric': 'rmse',\n",
        "    'verbosity': -1\n",
        "}\n",
        "\n",
        "# Train the model with early stopping via callback\n",
        "model = lgb.train(\n",
        "    params,\n",
        "    train_data,\n",
        "    valid_sets=[valid_data],\n",
        "    callbacks=[lgb.early_stopping(stopping_rounds=10)]\n",
        ")\n"
      ],
      "metadata": {
        "colab": {
          "base_uri": "https://localhost:8080/"
        },
        "id": "z7iolDLICVHe",
        "outputId": "3f610c0a-b3e2-4d53-dcba-9ce60698860b"
      },
      "execution_count": 20,
      "outputs": [
        {
          "output_type": "stream",
          "name": "stdout",
          "text": [
            "Training until validation scores don't improve for 10 rounds\n",
            "Early stopping, best iteration is:\n",
            "[5]\tvalid_0's rmse: 0.0187788\n"
          ]
        }
      ]
    },
    {
      "cell_type": "code",
      "source": [
        "from math import sqrt\n",
        "from sklearn.metrics import mean_squared_error\n",
        "\n",
        "mse = mean_squared_error(y_test, y_pred)\n",
        "rmse = sqrt(mse)\n",
        "print(f\"Test RMSE: {rmse:.5f}\")\n"
      ],
      "metadata": {
        "colab": {
          "base_uri": "https://localhost:8080/"
        },
        "id": "2GPYYp2iFWSd",
        "outputId": "c696bc38-647c-4126-8310-dd558e466570"
      },
      "execution_count": 23,
      "outputs": [
        {
          "output_type": "stream",
          "name": "stdout",
          "text": [
            "Test RMSE: 0.01878\n"
          ]
        }
      ]
    },
    {
      "cell_type": "code",
      "source": [
        "import os\n",
        "\n",
        "# List all files in the 'data/prices' directory\n",
        "os.listdir('data/prices')\n"
      ],
      "metadata": {
        "colab": {
          "base_uri": "https://localhost:8080/"
        },
        "id": "cRBZHSf_FzFN",
        "outputId": "a678e094-2e92-4b3e-be8c-42c477b4453a"
      },
      "execution_count": 29,
      "outputs": [
        {
          "output_type": "execute_result",
          "data": {
            "text/plain": [
              "['MSFT.csv', 'GOOGL.csv', 'AAPL.csv']"
            ]
          },
          "metadata": {},
          "execution_count": 29
        }
      ]
    },
    {
      "cell_type": "code",
      "source": [
        "import pandas as pd\n",
        "\n",
        "# Load the CSV file into a DataFrame\n",
        "new_data = pd.read_csv('data/prices/AAPL.csv', index_col=0, parse_dates=True)\n",
        "\n",
        "# Display the first few rows to verify\n",
        "new_data.head()\n"
      ],
      "metadata": {
        "colab": {
          "base_uri": "https://localhost:8080/",
          "height": 292
        },
        "id": "fAka7p8gFzHr",
        "outputId": "5b00c078-bf05-4688-e60c-d33a33311ed5"
      },
      "execution_count": 30,
      "outputs": [
        {
          "output_type": "stream",
          "name": "stderr",
          "text": [
            "<ipython-input-30-acaf48fd4a08>:4: UserWarning: Could not infer format, so each element will be parsed individually, falling back to `dateutil`. To ensure parsing is consistent and as-expected, please specify a format.\n",
            "  new_data = pd.read_csv('data/prices/AAPL.csv', index_col=0, parse_dates=True)\n"
          ]
        },
        {
          "output_type": "execute_result",
          "data": {
            "text/plain": [
              "                         Close                High                Low  \\\n",
              "Price                                                                   \n",
              "Ticker                    AAPL                AAPL               AAPL   \n",
              "Date                       NaN                 NaN                NaN   \n",
              "2018-01-02  40.426822662353516  40.436212064432425  39.72276790875693   \n",
              "2018-01-03   40.41978454589844  40.964255303118776  40.35642219303837   \n",
              "2018-01-04   40.60753631591797   40.71079826612631   40.3845863312453   \n",
              "\n",
              "                          Open     Volume  \n",
              "Price                                      \n",
              "Ticker                    AAPL       AAPL  \n",
              "Date                       NaN        NaN  \n",
              "2018-01-02    39.9339864834405  102223600  \n",
              "2018-01-03  40.490190741195256  118071600  \n",
              "2018-01-04   40.49253940209357   89738400  "
            ],
            "text/html": [
              "\n",
              "  <div id=\"df-f249bcec-d142-4c80-9538-0420f6511ab5\" class=\"colab-df-container\">\n",
              "    <div>\n",
              "<style scoped>\n",
              "    .dataframe tbody tr th:only-of-type {\n",
              "        vertical-align: middle;\n",
              "    }\n",
              "\n",
              "    .dataframe tbody tr th {\n",
              "        vertical-align: top;\n",
              "    }\n",
              "\n",
              "    .dataframe thead th {\n",
              "        text-align: right;\n",
              "    }\n",
              "</style>\n",
              "<table border=\"1\" class=\"dataframe\">\n",
              "  <thead>\n",
              "    <tr style=\"text-align: right;\">\n",
              "      <th></th>\n",
              "      <th>Close</th>\n",
              "      <th>High</th>\n",
              "      <th>Low</th>\n",
              "      <th>Open</th>\n",
              "      <th>Volume</th>\n",
              "    </tr>\n",
              "    <tr>\n",
              "      <th>Price</th>\n",
              "      <th></th>\n",
              "      <th></th>\n",
              "      <th></th>\n",
              "      <th></th>\n",
              "      <th></th>\n",
              "    </tr>\n",
              "  </thead>\n",
              "  <tbody>\n",
              "    <tr>\n",
              "      <th>Ticker</th>\n",
              "      <td>AAPL</td>\n",
              "      <td>AAPL</td>\n",
              "      <td>AAPL</td>\n",
              "      <td>AAPL</td>\n",
              "      <td>AAPL</td>\n",
              "    </tr>\n",
              "    <tr>\n",
              "      <th>Date</th>\n",
              "      <td>NaN</td>\n",
              "      <td>NaN</td>\n",
              "      <td>NaN</td>\n",
              "      <td>NaN</td>\n",
              "      <td>NaN</td>\n",
              "    </tr>\n",
              "    <tr>\n",
              "      <th>2018-01-02</th>\n",
              "      <td>40.426822662353516</td>\n",
              "      <td>40.436212064432425</td>\n",
              "      <td>39.72276790875693</td>\n",
              "      <td>39.9339864834405</td>\n",
              "      <td>102223600</td>\n",
              "    </tr>\n",
              "    <tr>\n",
              "      <th>2018-01-03</th>\n",
              "      <td>40.41978454589844</td>\n",
              "      <td>40.964255303118776</td>\n",
              "      <td>40.35642219303837</td>\n",
              "      <td>40.490190741195256</td>\n",
              "      <td>118071600</td>\n",
              "    </tr>\n",
              "    <tr>\n",
              "      <th>2018-01-04</th>\n",
              "      <td>40.60753631591797</td>\n",
              "      <td>40.71079826612631</td>\n",
              "      <td>40.3845863312453</td>\n",
              "      <td>40.49253940209357</td>\n",
              "      <td>89738400</td>\n",
              "    </tr>\n",
              "  </tbody>\n",
              "</table>\n",
              "</div>\n",
              "    <div class=\"colab-df-buttons\">\n",
              "\n",
              "  <div class=\"colab-df-container\">\n",
              "    <button class=\"colab-df-convert\" onclick=\"convertToInteractive('df-f249bcec-d142-4c80-9538-0420f6511ab5')\"\n",
              "            title=\"Convert this dataframe to an interactive table.\"\n",
              "            style=\"display:none;\">\n",
              "\n",
              "  <svg xmlns=\"http://www.w3.org/2000/svg\" height=\"24px\" viewBox=\"0 -960 960 960\">\n",
              "    <path d=\"M120-120v-720h720v720H120Zm60-500h600v-160H180v160Zm220 220h160v-160H400v160Zm0 220h160v-160H400v160ZM180-400h160v-160H180v160Zm440 0h160v-160H620v160ZM180-180h160v-160H180v160Zm440 0h160v-160H620v160Z\"/>\n",
              "  </svg>\n",
              "    </button>\n",
              "\n",
              "  <style>\n",
              "    .colab-df-container {\n",
              "      display:flex;\n",
              "      gap: 12px;\n",
              "    }\n",
              "\n",
              "    .colab-df-convert {\n",
              "      background-color: #E8F0FE;\n",
              "      border: none;\n",
              "      border-radius: 50%;\n",
              "      cursor: pointer;\n",
              "      display: none;\n",
              "      fill: #1967D2;\n",
              "      height: 32px;\n",
              "      padding: 0 0 0 0;\n",
              "      width: 32px;\n",
              "    }\n",
              "\n",
              "    .colab-df-convert:hover {\n",
              "      background-color: #E2EBFA;\n",
              "      box-shadow: 0px 1px 2px rgba(60, 64, 67, 0.3), 0px 1px 3px 1px rgba(60, 64, 67, 0.15);\n",
              "      fill: #174EA6;\n",
              "    }\n",
              "\n",
              "    .colab-df-buttons div {\n",
              "      margin-bottom: 4px;\n",
              "    }\n",
              "\n",
              "    [theme=dark] .colab-df-convert {\n",
              "      background-color: #3B4455;\n",
              "      fill: #D2E3FC;\n",
              "    }\n",
              "\n",
              "    [theme=dark] .colab-df-convert:hover {\n",
              "      background-color: #434B5C;\n",
              "      box-shadow: 0px 1px 3px 1px rgba(0, 0, 0, 0.15);\n",
              "      filter: drop-shadow(0px 1px 2px rgba(0, 0, 0, 0.3));\n",
              "      fill: #FFFFFF;\n",
              "    }\n",
              "  </style>\n",
              "\n",
              "    <script>\n",
              "      const buttonEl =\n",
              "        document.querySelector('#df-f249bcec-d142-4c80-9538-0420f6511ab5 button.colab-df-convert');\n",
              "      buttonEl.style.display =\n",
              "        google.colab.kernel.accessAllowed ? 'block' : 'none';\n",
              "\n",
              "      async function convertToInteractive(key) {\n",
              "        const element = document.querySelector('#df-f249bcec-d142-4c80-9538-0420f6511ab5');\n",
              "        const dataTable =\n",
              "          await google.colab.kernel.invokeFunction('convertToInteractive',\n",
              "                                                    [key], {});\n",
              "        if (!dataTable) return;\n",
              "\n",
              "        const docLinkHtml = 'Like what you see? Visit the ' +\n",
              "          '<a target=\"_blank\" href=https://colab.research.google.com/notebooks/data_table.ipynb>data table notebook</a>'\n",
              "          + ' to learn more about interactive tables.';\n",
              "        element.innerHTML = '';\n",
              "        dataTable['output_type'] = 'display_data';\n",
              "        await google.colab.output.renderOutput(dataTable, element);\n",
              "        const docLink = document.createElement('div');\n",
              "        docLink.innerHTML = docLinkHtml;\n",
              "        element.appendChild(docLink);\n",
              "      }\n",
              "    </script>\n",
              "  </div>\n",
              "\n",
              "\n",
              "    <div id=\"df-d0e4372b-75a1-456e-8fdc-fcfbd4e6cf06\">\n",
              "      <button class=\"colab-df-quickchart\" onclick=\"quickchart('df-d0e4372b-75a1-456e-8fdc-fcfbd4e6cf06')\"\n",
              "                title=\"Suggest charts\"\n",
              "                style=\"display:none;\">\n",
              "\n",
              "<svg xmlns=\"http://www.w3.org/2000/svg\" height=\"24px\"viewBox=\"0 0 24 24\"\n",
              "     width=\"24px\">\n",
              "    <g>\n",
              "        <path d=\"M19 3H5c-1.1 0-2 .9-2 2v14c0 1.1.9 2 2 2h14c1.1 0 2-.9 2-2V5c0-1.1-.9-2-2-2zM9 17H7v-7h2v7zm4 0h-2V7h2v10zm4 0h-2v-4h2v4z\"/>\n",
              "    </g>\n",
              "</svg>\n",
              "      </button>\n",
              "\n",
              "<style>\n",
              "  .colab-df-quickchart {\n",
              "      --bg-color: #E8F0FE;\n",
              "      --fill-color: #1967D2;\n",
              "      --hover-bg-color: #E2EBFA;\n",
              "      --hover-fill-color: #174EA6;\n",
              "      --disabled-fill-color: #AAA;\n",
              "      --disabled-bg-color: #DDD;\n",
              "  }\n",
              "\n",
              "  [theme=dark] .colab-df-quickchart {\n",
              "      --bg-color: #3B4455;\n",
              "      --fill-color: #D2E3FC;\n",
              "      --hover-bg-color: #434B5C;\n",
              "      --hover-fill-color: #FFFFFF;\n",
              "      --disabled-bg-color: #3B4455;\n",
              "      --disabled-fill-color: #666;\n",
              "  }\n",
              "\n",
              "  .colab-df-quickchart {\n",
              "    background-color: var(--bg-color);\n",
              "    border: none;\n",
              "    border-radius: 50%;\n",
              "    cursor: pointer;\n",
              "    display: none;\n",
              "    fill: var(--fill-color);\n",
              "    height: 32px;\n",
              "    padding: 0;\n",
              "    width: 32px;\n",
              "  }\n",
              "\n",
              "  .colab-df-quickchart:hover {\n",
              "    background-color: var(--hover-bg-color);\n",
              "    box-shadow: 0 1px 2px rgba(60, 64, 67, 0.3), 0 1px 3px 1px rgba(60, 64, 67, 0.15);\n",
              "    fill: var(--button-hover-fill-color);\n",
              "  }\n",
              "\n",
              "  .colab-df-quickchart-complete:disabled,\n",
              "  .colab-df-quickchart-complete:disabled:hover {\n",
              "    background-color: var(--disabled-bg-color);\n",
              "    fill: var(--disabled-fill-color);\n",
              "    box-shadow: none;\n",
              "  }\n",
              "\n",
              "  .colab-df-spinner {\n",
              "    border: 2px solid var(--fill-color);\n",
              "    border-color: transparent;\n",
              "    border-bottom-color: var(--fill-color);\n",
              "    animation:\n",
              "      spin 1s steps(1) infinite;\n",
              "  }\n",
              "\n",
              "  @keyframes spin {\n",
              "    0% {\n",
              "      border-color: transparent;\n",
              "      border-bottom-color: var(--fill-color);\n",
              "      border-left-color: var(--fill-color);\n",
              "    }\n",
              "    20% {\n",
              "      border-color: transparent;\n",
              "      border-left-color: var(--fill-color);\n",
              "      border-top-color: var(--fill-color);\n",
              "    }\n",
              "    30% {\n",
              "      border-color: transparent;\n",
              "      border-left-color: var(--fill-color);\n",
              "      border-top-color: var(--fill-color);\n",
              "      border-right-color: var(--fill-color);\n",
              "    }\n",
              "    40% {\n",
              "      border-color: transparent;\n",
              "      border-right-color: var(--fill-color);\n",
              "      border-top-color: var(--fill-color);\n",
              "    }\n",
              "    60% {\n",
              "      border-color: transparent;\n",
              "      border-right-color: var(--fill-color);\n",
              "    }\n",
              "    80% {\n",
              "      border-color: transparent;\n",
              "      border-right-color: var(--fill-color);\n",
              "      border-bottom-color: var(--fill-color);\n",
              "    }\n",
              "    90% {\n",
              "      border-color: transparent;\n",
              "      border-bottom-color: var(--fill-color);\n",
              "    }\n",
              "  }\n",
              "</style>\n",
              "\n",
              "      <script>\n",
              "        async function quickchart(key) {\n",
              "          const quickchartButtonEl =\n",
              "            document.querySelector('#' + key + ' button');\n",
              "          quickchartButtonEl.disabled = true;  // To prevent multiple clicks.\n",
              "          quickchartButtonEl.classList.add('colab-df-spinner');\n",
              "          try {\n",
              "            const charts = await google.colab.kernel.invokeFunction(\n",
              "                'suggestCharts', [key], {});\n",
              "          } catch (error) {\n",
              "            console.error('Error during call to suggestCharts:', error);\n",
              "          }\n",
              "          quickchartButtonEl.classList.remove('colab-df-spinner');\n",
              "          quickchartButtonEl.classList.add('colab-df-quickchart-complete');\n",
              "        }\n",
              "        (() => {\n",
              "          let quickchartButtonEl =\n",
              "            document.querySelector('#df-d0e4372b-75a1-456e-8fdc-fcfbd4e6cf06 button');\n",
              "          quickchartButtonEl.style.display =\n",
              "            google.colab.kernel.accessAllowed ? 'block' : 'none';\n",
              "        })();\n",
              "      </script>\n",
              "    </div>\n",
              "\n",
              "    </div>\n",
              "  </div>\n"
            ],
            "application/vnd.google.colaboratory.intrinsic+json": {
              "type": "dataframe",
              "variable_name": "new_data",
              "summary": "{\n  \"name\": \"new_data\",\n  \"rows\": 1511,\n  \"fields\": [\n    {\n      \"column\": \"Price\",\n      \"properties\": {\n        \"dtype\": \"string\",\n        \"num_unique_values\": 1511,\n        \"samples\": [\n          \"2021-08-06\",\n          \"2020-06-12\",\n          \"2023-07-03\"\n        ],\n        \"semantic_type\": \"\",\n        \"description\": \"\"\n      }\n    },\n    {\n      \"column\": \"Close\",\n      \"properties\": {\n        \"dtype\": \"string\",\n        \"num_unique_values\": 1494,\n        \"samples\": [\n          \"145.7974853515625\",\n          \"142.700439453125\",\n          \"173.31471252441406\"\n        ],\n        \"semantic_type\": \"\",\n        \"description\": \"\"\n      }\n    },\n    {\n      \"column\": \"High\",\n      \"properties\": {\n        \"dtype\": \"string\",\n        \"num_unique_values\": 1510,\n        \"samples\": [\n          \"144.1803285775889\",\n          \"84.00620266393342\",\n          \"143.5138708346114\"\n        ],\n        \"semantic_type\": \"\",\n        \"description\": \"\"\n      }\n    },\n    {\n      \"column\": \"Low\",\n      \"properties\": {\n        \"dtype\": \"string\",\n        \"num_unique_values\": 1510,\n        \"samples\": [\n          \"142.729806727241\",\n          \"80.82267515019947\",\n          \"140.83824238540038\"\n        ],\n        \"semantic_type\": \"\",\n        \"description\": \"\"\n      }\n    },\n    {\n      \"column\": \"Open\",\n      \"properties\": {\n        \"dtype\": \"string\",\n        \"num_unique_values\": 1510,\n        \"samples\": [\n          \"143.43546923928326\",\n          \"80.98549997370785\",\n          \"141.5733062965506\"\n        ],\n        \"semantic_type\": \"\",\n        \"description\": \"\"\n      }\n    },\n    {\n      \"column\": \"Volume\",\n      \"properties\": {\n        \"dtype\": \"string\",\n        \"num_unique_values\": 1506,\n        \"samples\": [\n          \"180991600\",\n          \"53623900\",\n          \"80767200\"\n        ],\n        \"semantic_type\": \"\",\n        \"description\": \"\"\n      }\n    }\n  ]\n}"
            }
          },
          "metadata": {},
          "execution_count": 30
        }
      ]
    },
    {
      "cell_type": "code",
      "source": [
        "# Define the price column\n",
        "price_col = 'Adj Close' if 'Adj Close' in new_data.columns else 'Close'\n",
        "\n",
        "# Ensure the price column is numeric\n",
        "new_data[price_col] = pd.to_numeric(new_data[price_col], errors='coerce')\n",
        "\n",
        "# Calculate returns and moving averages\n",
        "new_data['return'] = new_data[price_col].pct_change()\n",
        "new_data['ma5'] = new_data[price_col].rolling(window=5).mean()\n",
        "new_data['ma10'] = new_data[price_col].rolling(window=10).mean()\n",
        "\n",
        "# Drop rows with missing values\n",
        "new_data.dropna(inplace=True)\n",
        "\n",
        "# Select features for prediction\n",
        "X_new = new_data[['return', 'ma5', 'ma10']]\n"
      ],
      "metadata": {
        "id": "Di1uKRVNGYOn"
      },
      "execution_count": 31,
      "outputs": []
    },
    {
      "cell_type": "code",
      "source": [
        "import joblib\n",
        "\n",
        "# Load the model\n",
        "model = joblib.load('models/lgbm_model.pkl')\n"
      ],
      "metadata": {
        "id": "IzrmNeTkGoAd"
      },
      "execution_count": 33,
      "outputs": []
    },
    {
      "cell_type": "code",
      "source": [
        "# Assuming you already loaded `new_data`\n",
        "price_col = 'Adj Close' if 'Adj Close' in new_data.columns else 'Close'\n",
        "\n",
        "# Convert price column to numeric\n",
        "new_data[price_col] = pd.to_numeric(new_data[price_col], errors='coerce')\n",
        "\n",
        "# Engineer features\n",
        "new_data['return'] = new_data[price_col].pct_change()\n",
        "new_data['ma5'] = new_data[price_col].rolling(window=5).mean()\n",
        "new_data['ma10'] = new_data[price_col].rolling(window=10).mean()\n",
        "new_data.dropna(inplace=True)\n",
        "\n",
        "# Select the feature columns\n",
        "X_new = new_data[['return', 'ma5', 'ma10']]\n"
      ],
      "metadata": {
        "id": "tMef7yfuGpOj"
      },
      "execution_count": 34,
      "outputs": []
    },
    {
      "cell_type": "code",
      "source": [
        "# Predict with the trained model\n",
        "y_pred_new = model.predict(X_new)\n"
      ],
      "metadata": {
        "id": "qMOm3ha_GpRK"
      },
      "execution_count": 35,
      "outputs": []
    },
    {
      "cell_type": "code",
      "source": [
        "import matplotlib.pyplot as plt\n",
        "\n",
        "plt.figure(figsize=(10, 6))\n",
        "plt.plot(new_data.index, new_data['return'], label='Actual Returns', color='blue')\n",
        "plt.plot(new_data.index, y_pred_new, label='Predicted Returns', color='red', linestyle='--')\n",
        "plt.title('Actual vs Predicted Returns')\n",
        "plt.xlabel('Date')\n",
        "plt.ylabel('Returns')\n",
        "plt.legend()\n",
        "plt.show()\n"
      ],
      "metadata": {
        "colab": {
          "base_uri": "https://localhost:8080/",
          "height": 564
        },
        "id": "HZxCDOSDGpT_",
        "outputId": "a37a5628-88a5-40c6-f1f6-ce67edf94dc9"
      },
      "execution_count": 36,
      "outputs": [
        {
          "output_type": "display_data",
          "data": {
            "text/plain": [
              "<Figure size 1000x600 with 1 Axes>"
            ],
            "image/png": "[encoded data removed]"
          },
          "metadata": {}
        }
      ]
    },
    {
      "cell_type": "code",
      "source": [],
      "metadata": {
        "id": "z60C7g8YGpWz"
      },
      "execution_count": null,
      "outputs": []
    },
    {
      "cell_type": "code",
      "source": [],
      "metadata": {
        "id": "bnGJfBbEGpZV"
      },
      "execution_count": null,
      "outputs": []
    },
    {
      "cell_type": "code",
      "source": [],
      "metadata": {
        "id": "Xh7TAPP2GpcD"
      },
      "execution_count": null,
      "outputs": []
    },
    {
      "cell_type": "code",
      "source": [],
      "metadata": {
        "id": "WfkZ1kS4Gpfi"
      },
      "execution_count": null,
      "outputs": []
    },
    {
      "cell_type": "code",
      "source": [],
      "metadata": {
        "id": "cknC9dBSGYTm"
      },
      "execution_count": null,
      "outputs": []
    },
    {
      "cell_type": "code",
      "source": [],
      "metadata": {
        "id": "QtoeVmm6GYWP"
      },
      "execution_count": null,
      "outputs": []
    },
    {
      "cell_type": "code",
      "source": [],
      "metadata": {
        "id": "-0081bivGYYi"
      },
      "execution_count": null,
      "outputs": []
    },
    {
      "cell_type": "code",
      "source": [],
      "metadata": {
        "id": "gIdteFCXGYb-"
      },
      "execution_count": null,
      "outputs": []
    }
  ]
}